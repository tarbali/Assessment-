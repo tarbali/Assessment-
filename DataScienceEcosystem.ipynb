{
 "cells": [
  {
   "cell_type": "markdown",
   "id": "608e9f1e-a93a-4697-aaaa-d180f17d00a5",
   "metadata": {},
   "source": [
    "# Data Science Tools Ecosystem #"
   ]
  },
  {
   "cell_type": "markdown",
   "id": "747975ea-f1bd-4cdd-861f-865a95207176",
   "metadata": {},
   "source": [
    "*In the dynamic realm of data science, a robust toolkit and ecosystem are paramount for success. From Python libraries like NumPy and pandas to specialized tools such as TensorFlow and PyTorch, the arsenal for analyzing, visualizing, and modeling data is vast. Coupled with platforms like Jupyter Notebooks and Apache Spark, data scientists navigate through complex datasets with agility and precision. This rich ecosystem fosters innovation, powering groundbreaking insights and solutions across industries. Welcome to the diverse and ever-evolving landscape of data science tools and technologies.*"
   ]
  },
  {
   "cell_type": "markdown",
   "id": "1970ce4a-d67a-4b7f-a846-035b67babb40",
   "metadata": {},
   "source": [
    "**Objectives** \n",
    "\n",
    "*Some of the key takeaways:*\n",
    "\n",
    "*List popular languages for Data Science.\n",
    "*List of commonly used libraries for Data Science.\n",
    "*How Python is used in Data Science."
   ]
  },
  {
   "cell_type": "markdown",
   "id": "b82771fe-11e1-421f-adb5-d408768c5177",
   "metadata": {},
   "source": [
    "**Some of the popular languages that Data Scientists use are:**\n",
    "1.Python\n",
    "2.R\n",
    "3.SQL"
   ]
  },
  {
   "cell_type": "markdown",
   "id": "04e175fa-7ffe-4d6c-abfc-f61172d1f426",
   "metadata": {},
   "source": [
    "**Some of the commonly used libraries used by Data Scientists include:**\n",
    "1.Pandas\n",
    "2.Numpy\n",
    "3.Matplotlib"
   ]
  },
  {
   "cell_type": "markdown",
   "id": "27cc2d40-90e7-4254-9b02-3f97681dcaca",
   "metadata": {},
   "source": [
    "| Data Science Tools |\n",
    "| ------------------ |\n",
    "| Jupyter Lab        |\n",
    "| Anaconda           |\n",
    "| Watson Studio      |"
   ]
  },
  {
   "cell_type": "markdown",
   "id": "ec611535-58eb-4e44-b03f-8a5d68b8d0e0",
   "metadata": {},
   "source": [
    "### Below are a few examples of evaluating arithmetic expressions in Python ###"
   ]
  },
  {
   "cell_type": "markdown",
   "id": "f681514a-6133-4686-97d0-efa5c6169daa",
   "metadata": {},
   "source": [
    "*This a simple arithmetic expression to mutiply then add integers*"
   ]
  },
  {
   "cell_type": "code",
   "execution_count": 72,
   "id": "02b71ecc-544b-4d91-bdb4-7e4ad8a711e7",
   "metadata": {},
   "outputs": [
    {
     "name": "stdout",
     "output_type": "stream",
     "text": [
      "17\n"
     ]
    }
   ],
   "source": [
    "input=(3*4)+5\n",
    "print(input)"
   ]
  },
  {
   "cell_type": "markdown",
   "id": "1068d4da-0ea1-4267-b6b3-34e484ffd62f",
   "metadata": {},
   "source": [
    "*Now, lets move a step futher and try to solve this equation related to time using python.*"
   ]
  },
  {
   "cell_type": "code",
   "execution_count": 74,
   "id": "3239dfab-78b4-4fba-bcfe-e41db64e55b0",
   "metadata": {},
   "outputs": [
    {
     "name": "stdout",
     "output_type": "stream",
     "text": [
      "200 minutes is equal to 3.3333333333333335 hours.\n"
     ]
    }
   ],
   "source": [
    "def minutes_to_hours(minutes):\n",
    "    hours = minutes/60\n",
    "    return hours\n",
    "\n",
    "minutes=200\n",
    "hours=minutes_to_hours(minutes)\n",
    "print(f\"{minutes} minutes is equal to {hours} hours.\")\n"
   ]
  },
  {
   "cell_type": "markdown",
   "id": "8af1b767-8622-4e79-a4e4-b76bec0ec184",
   "metadata": {},
   "source": [
    "## Author ##\n",
    "Numan Hilal"
   ]
  },
  {
   "cell_type": "code",
   "execution_count": null,
   "id": "6282e33b-5347-4de0-a4cc-0d52ae480149",
   "metadata": {},
   "outputs": [],
   "source": []
  }
 ],
 "metadata": {
  "kernelspec": {
   "display_name": "Python 3 (ipykernel)",
   "language": "python",
   "name": "python3"
  },
  "language_info": {
   "codemirror_mode": {
    "name": "ipython",
    "version": 3
   },
   "file_extension": ".py",
   "mimetype": "text/x-python",
   "name": "python",
   "nbconvert_exporter": "python",
   "pygments_lexer": "ipython3",
   "version": "3.11.7"
  }
 },
 "nbformat": 4,
 "nbformat_minor": 5
}
